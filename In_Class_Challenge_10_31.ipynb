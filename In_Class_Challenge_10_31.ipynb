{
  "nbformat": 4,
  "nbformat_minor": 0,
  "metadata": {
    "colab": {
      "name": "In-Class.Challenge 10/31.ipynb",
      "provenance": [],
      "include_colab_link": true
    },
    "kernelspec": {
      "name": "python3",
      "display_name": "Python 3"
    }
  },
  "cells": [
    {
      "cell_type": "markdown",
      "metadata": {
        "id": "view-in-github",
        "colab_type": "text"
      },
      "source": [
        "<a href=\"https://colab.research.google.com/github/ardenhaggin2001/Computational-Modeling-and-Simulation/blob/master/In_Class_Challenge_10_31.ipynb\" target=\"_parent\"><img src=\"https://colab.research.google.com/assets/colab-badge.svg\" alt=\"Open In Colab\"/></a>"
      ]
    },
    {
      "cell_type": "code",
      "metadata": {
        "id": "nJY_42TwzWNr",
        "colab_type": "code",
        "colab": {}
      },
      "source": [
        "# Make a matrix with 1000 rows with y=sin^2(x) from x=0 to x=4pi\n",
        "# Save as .csv\n",
        "# Upload to GH\n",
        "# Create new colab -- download from GH and display"
      ],
      "execution_count": 0,
      "outputs": []
    },
    {
      "cell_type": "code",
      "metadata": {
        "id": "QVYd8FHB6Caw",
        "colab_type": "code",
        "colab": {
          "base_uri": "https://localhost:8080/",
          "height": 136
        },
        "outputId": "224ce258-6ebe-44ff-fc7b-8ed05296ed34"
      },
      "source": [
        "import numpy as np\n",
        "\n",
        "x = np.linspace(0,4*np.pi, 1000)\n",
        "y = np.sin(x)**2\n",
        "h = np.vstack([x,y])\n",
        "\n",
        "h.T"
      ],
      "execution_count": 25,
      "outputs": [
        {
          "output_type": "execute_result",
          "data": {
            "text/plain": [
              "array([[0.00000000e+00, 0.00000000e+00],\n",
              "       [1.25789496e-02, 1.58221627e-04],\n",
              "       [2.51578991e-02, 6.32786371e-04],\n",
              "       ...,\n",
              "       [1.25412127e+01, 6.32786371e-04],\n",
              "       [1.25537917e+01, 1.58221627e-04],\n",
              "       [1.25663706e+01, 2.39961565e-31]])"
            ]
          },
          "metadata": {
            "tags": []
          },
          "execution_count": 25
        }
      ]
    }
  ]
}